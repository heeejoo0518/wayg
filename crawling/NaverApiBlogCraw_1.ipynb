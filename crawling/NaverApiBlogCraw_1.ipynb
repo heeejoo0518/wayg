{
 "cells": [
  {
   "cell_type": "code",
   "execution_count": 34,
   "id": "e38f07f6",
   "metadata": {},
   "outputs": [
    {
     "data": {
      "text/plain": [
       "['title:경주여행, <b>불국사<\\\\/b> 극락전... 수제비, <b>불국사<\\\\/b> 카페 로머스커피,\\n\\t\\t\\tlink:https:\\\\/\\\\/blog.naver.com\\\\/101499?Redirect=Log&logNo=222856341772,\\n\\t\\t\\tdescription:음 <b>불국사<\\\\/b>를 빼면 (<b>불국사<\\\\/b>도 그닥 멀진 않지만...) 대부분의 유적지가 다 몰려있거든요~ 그래서 1박 2일 내지는 2박 3일 일정이면 경주여행하기는 충분할 것 같아요ㅎㅎ 물론 내가 경주 곳곳을 다 안가봐서... ,\\n\\t\\t\\tbloggername:꿈꾸는 다락방,\\n\\t\\t\\tbloggerlink:https:\\\\/\\\\/blog.naver.com\\\\/101499,\\n\\t\\t\\tpostdate:20220823\\n\\t\\t},',\n",
       " 'title:한여름의 2박3일 경주여행 2,3일차(<b>불국사<\\\\/b>, 첨성대, 엘로우... ,\\n\\t\\t\\tlink:https:\\\\/\\\\/blog.naver.com\\\\/ygii10041?Redirect=Log&logNo=222851902785,\\n\\t\\t\\tdescription:<b>불국사<\\\\/b> 가는 길에 지나친 경주월드 그리고 캘리포니아비치 버스타고 갔는데 가득 찼던 버스에서 대부분 여기 내리고 남은 사람은 우리와 외국인 그리고 동네주민들뿐.. 경주왔으면 <b>불국사<\\\\/b> 가는거 아닌가요 왜... ,\\n\\t\\t\\tbloggername:Happy new start,\\n\\t\\t\\tbloggerlink:https:\\\\/\\\\/blog.naver.com\\\\/ygii10041,\\n\\t\\t\\tpostdate:20220818\\n\\t\\t},',\n",
       " 'title:경주여행 3일차, 오랜만에 <b>불국사<\\\\/b> , 감포항 회 맛집, 그리고... ,\\n\\t\\t\\tlink:https:\\\\/\\\\/blog.naver.com\\\\/viah?Redirect=Log&logNo=222868947079,\\n\\t\\t\\tdescription:묵었던 곳은 이른 아침 시간에는 수영을 할 수 없어서, 아침을 챙겨 먹고, <b>불국사<\\\\/b>를 구경하고 새로운 숙소로 체크인 하기로 했어요. 경주 여행 3일차 7번가 펜션 체크아웃 - <b>불국사<\\\\/b> 구경 - 점심(두부촌) - 더웨이브... ,\\n\\t\\t\\tbloggername:someday, oneday, today,\\n\\t\\t\\tbloggerlink:https:\\\\/\\\\/blog.naver.com\\\\/viah,\\n\\t\\t\\tpostdate:20220907\\n\\t\\t},',\n",
       " 'title:경주여행2)<b>불국사<\\\\/b>근처 한우집 추천-서진푸줏간, 대릉원... ,\\n\\t\\t\\tlink:https:\\\\/\\\\/blog.naver.com\\\\/jiwonwww?Redirect=Log&logNo=222857377288,\\n\\t\\t\\tdescription:알아봅니다 <b>불국사<\\\\/b> 근처 리뷰가 괜찮았던집 서진푸줏간을 목적지로 정하고 13명이 출발했습니다... 여기도 <b>불국사<\\\\/b> 근처입니다 #카페로드100 넓은 주차장과 쾌적한 실내가 있는 이곳은 해바라기  밭이 유명한것... ,\\n\\t\\t\\tbloggername:나디아와 공룡들,\\n\\t\\t\\tbloggerlink:https:\\\\/\\\\/blog.naver.com\\\\/jiwonwww,\\n\\t\\t\\tpostdate:20220824\\n\\t\\t},',\n",
       " 'title:경주 <b>불국사<\\\\/b>카페 블리스커피 애견동반가능,\\n\\t\\t\\tlink:https:\\\\/\\\\/blog.naver.com\\\\/saengeun?Redirect=Log&logNo=222808550049,\\n\\t\\t\\tdescription:엄마가 엄청 만족스러워하신 <b>불국사<\\\\/b>카페 블리스커피! 수목원을 연상케하는 멋진 플랜테리어 카페 :&gt; 체크아웃하고 밥 먹고 방문했던 블리스커피! 여기는 애견동반이 가능한 <b>불국사<\\\\/b>카페다. 주차장도 아주 넓고... ,\\n\\t\\t\\tbloggername:푸른달 열닷새,\\n\\t\\t\\tbloggerlink:https:\\\\/\\\\/blog.naver.com\\\\/saengeun,\\n\\t\\t\\tpostdate:20220712\\n\\t\\t},',\n",
       " 'title:경주 <b>불국사<\\\\/b> - 다보탑, 석가탑, 황금돼지는 어디 숨어 있을까?,\\n\\t\\t\\tlink:https:\\\\/\\\\/blog.naver.com\\\\/marswing?Redirect=Log&logNo=222814259773,\\n\\t\\t\\tdescription:경주 <b>불국사<\\\\/b> 다보탑, 석가탑, 황금돼지는 어디 숨어 있을까? <b>불국사<\\\\/b> 주소 : 경북 경주시 불국로 385 <b>불국사<\\\\/b> 영업시간 : 매일 08:00 ~19:00 전화번호 : 054-746-9913 어렸을 때 수학여행 이후로 처음 가본 <b>불국사<\\\\/b>입니다.... ,\\n\\t\\t\\tbloggername:in the moonlight,\\n\\t\\t\\tbloggerlink:https:\\\\/\\\\/blog.naver.com\\\\/marswing,\\n\\t\\t\\tpostdate:20220716\\n\\t\\t},',\n",
       " 'title:경주 <b>불국사<\\\\/b>에서 석굴암 가는법 같은 곳에 있는 게 아니었음,\\n\\t\\t\\tlink:https:\\\\/\\\\/blog.naver.com\\\\/hayoojin?Redirect=Log&logNo=222852236408,\\n\\t\\t\\tdescription:세계문화유산으로 지정되어 있는 <b>불국사<\\\\/b> 석굴암은 경주 여행 필수 코스 아니겠음?! 우리 학창 시절에는... <b>불국사<\\\\/b> 주차요금 : 소형 기준 1000원 입구쪽 도착하면 앞에서 돈을 받으시는 직원분이 계시고 현금으로... ,\\n\\t\\t\\tbloggername:하유의 멘붕라이프,\\n\\t\\t\\tbloggerlink:https:\\\\/\\\\/blog.naver.com\\\\/hayoojin,\\n\\t\\t\\tpostdate:20220819\\n\\t\\t},',\n",
       " 'title:경주 <b>불국사<\\\\/b> 카페 감성적인,\\n\\t\\t\\tlink:https:\\\\/\\\\/blog.naver.com\\\\/abungbung2?Redirect=Log&logNo=222852052735,\\n\\t\\t\\tdescription:저희가 꼭 한번 가보자고 입모아서 얘기했던 <b>불국사<\\\\/b> 카페에 대한 소개를 해드리려고 해요. 내류사라고... <b>불국사<\\\\/b> 카페 내에는 아래와 같은 특별한 인테리어가 보였어요. 바로 물수반이라고 하는 인테리어인데... ,\\n\\t\\t\\tbloggername:박긍정여사의 삐뚤어진 상념,\\n\\t\\t\\tbloggerlink:https:\\\\/\\\\/blog.naver.com\\\\/abungbung2,\\n\\t\\t\\tpostdate:20220819\\n\\t\\t},',\n",
       " 'title:경주 <b>불국사<\\\\/b> 맛집 논뚜렁밭뚜렁 불고기정식 정갈하네,\\n\\t\\t\\tlink:https:\\\\/\\\\/blog.naver.com\\\\/lisaloy?Redirect=Log&logNo=222864118450,\\n\\t\\t\\tdescription:우선 숙소에서 가까웠던 경주 <b>불국사<\\\\/b> 맛집 논뚜렁 밭뚜렁에서 아점 먼저 해결하고 다음 목적지로... 올봄에 겹벚꽃이 예쁘게 필 즈음 아줌마들끼리 꽃구경 갔다가 경주 <b>불국사<\\\\/b> 맛집이라 해서 찾아간 곳이거든요.... ,\\n\\t\\t\\tbloggername:후니지니맘 쩡이의 행복한 순간들,\\n\\t\\t\\tbloggerlink:https:\\\\/\\\\/blog.naver.com\\\\/lisaloy,\\n\\t\\t\\tpostdate:20220901\\n\\t\\t},',\n",
       " 'title:경주 <b>불국사<\\\\/b> 맛집 &apos;유수정불고기쌈밥&apos; 정갈했던 한우 불고기 후기!,\\n\\t\\t\\tlink:https:\\\\/\\\\/blog.naver.com\\\\/drawing_me?Redirect=Log&logNo=222840717588,\\n\\t\\t\\tdescription:이틀전 가족들과 경주로 여행을 갔다가 현지인에게 소개받았던 경주 <b>불국사<\\\\/b> 맛집에 다녀왔는데요.... 유수정불고기쌈밥은 <b>불국사<\\\\/b>에서 차량으로 3분이면 도착했는데요. 한옥 스타일의 외관에 하얀색 간판이... ,\\n\\t\\t\\tbloggername:drawing me,\\n\\t\\t\\tbloggerlink:https:\\\\/\\\\/blog.naver.com\\\\/drawing_me,\\n\\t\\t\\tpostdate:20220805\\n\\t\\t}\\n\\t]\\n}']"
      ]
     },
     "execution_count": 34,
     "metadata": {},
     "output_type": "execute_result"
    }
   ],
   "source": [
    "import os\n",
    "import sys\n",
    "import urllib.request\n",
    "client_id = \"lrocsZt4BsRz87jLa2UX\"\n",
    "client_secret = \"DpOj8gHFaO\"\n",
    "quote = \"불국사\"\n",
    "encText = urllib.parse.quote(quote)\n",
    "url = \"https://openapi.naver.com/v1/search/blog?query=\" + encText # json 결과\n",
    "# url = \"https://openapi.naver.com/v1/search/blog.xml?query=\" + encText # xml 결과\n",
    "request = urllib.request.Request(url)\n",
    "request.add_header(\"X-Naver-Client-Id\",client_id)\n",
    "request.add_header(\"X-Naver-Client-Secret\",client_secret)\n",
    "response = urllib.request.urlopen(request)\n",
    "rescode = response.getcode()\n",
    "\n",
    "if(rescode==200):\n",
    "    response_body = response.read()\n",
    "#     print(response_body.decode('utf-8'))\n",
    "else:\n",
    "    print(\"Error Code:\" + rescode)\n",
    "\n",
    "body = response_body.decode('utf-8')\n",
    "body = body.replace('\"','')\n",
    "#body 나누기\n",
    "list1 = body.split('\\n\\t\\t{\\n\\t\\t\\t')\n",
    "#naver블로그 글만 가져오기\n",
    "list1 = [i for i in list1 if 'naver' in i]\n",
    "list1"
   ]
  },
  {
   "cell_type": "code",
   "execution_count": null,
   "id": "d10fbe06",
   "metadata": {},
   "outputs": [],
   "source": []
  },
  {
   "cell_type": "code",
   "execution_count": 35,
   "id": "bf35e159",
   "metadata": {},
   "outputs": [
    {
     "name": "stdout",
     "output_type": "stream",
     "text": [
      "<<제목 모음>>\n",
      "['경주여행, <b>불국사<\\\\/b> 극락전... 수제비, <b>불국사<\\\\/b> 카페 로머스커피', '한여름의 2박3일 경주여행 2,3일차(<b>불국사<\\\\/b>, 첨성대, 엘로우... ', '경주여행 3일차, 오랜만에 <b>불국사<\\\\/b> , 감포항 회 맛집, 그리고... ', '경주여행2)<b>불국사<\\\\/b>근처 한우집 추천-서진푸줏간, 대릉원... ', '경주 <b>불국사<\\\\/b>카페 블리스커피 애견동반가능', '경주 <b>불국사<\\\\/b> - 다보탑, 석가탑, 황금돼지는 어디 숨어 있을까?', '경주 <b>불국사<\\\\/b>에서 석굴암 가는법 같은 곳에 있는 게 아니었음', '경주 <b>불국사<\\\\/b> 카페 감성적인', '경주 <b>불국사<\\\\/b> 맛집 논뚜렁밭뚜렁 불고기정식 정갈하네', '경주 <b>불국사<\\\\/b> 맛집 &apos;유수정불고기쌈밥&apos; 정갈했던 한우 불고기 후기!']\n",
      "총 제목 수:  10 개\n",
      "\n",
      "<<링크 모음>>\n",
      "['https:\\\\/\\\\/blog.naver.com\\\\/101499?Redirect=Log&logNo=222856341772', 'https:\\\\/\\\\/blog.naver.com\\\\/ygii10041?Redirect=Log&logNo=222851902785', 'https:\\\\/\\\\/blog.naver.com\\\\/viah?Redirect=Log&logNo=222868947079', 'https:\\\\/\\\\/blog.naver.com\\\\/jiwonwww?Redirect=Log&logNo=222857377288', 'https:\\\\/\\\\/blog.naver.com\\\\/saengeun?Redirect=Log&logNo=222808550049', 'https:\\\\/\\\\/blog.naver.com\\\\/marswing?Redirect=Log&logNo=222814259773', 'https:\\\\/\\\\/blog.naver.com\\\\/hayoojin?Redirect=Log&logNo=222852236408', 'https:\\\\/\\\\/blog.naver.com\\\\/abungbung2?Redirect=Log&logNo=222852052735', 'https:\\\\/\\\\/blog.naver.com\\\\/lisaloy?Redirect=Log&logNo=222864118450', 'https:\\\\/\\\\/blog.naver.com\\\\/drawing_me?Redirect=Log&logNo=222840717588']\n",
      "총 링크 수:  10 개\n"
     ]
    }
   ],
   "source": [
    "#블로그 제목, 링크 뽑기\n",
    "import re\n",
    "titles = []\n",
    "links = []\n",
    "for i in list1:\n",
    "    title = re.findall('title:(.*?),\\n\\t\\t\\tlink',i)\n",
    "    link = re.findall('link:(.*?),\\n\\t\\t\\tdescription',i)\n",
    "    titles.append(title)\n",
    "    links.append(link)\n",
    " \n",
    "titles = [r for i in titles for r in i]\n",
    "links = [r for i in links for r in i]\n",
    "\n",
    "print('<<제목 모음>>')\n",
    "print(titles)\n",
    "print('총 제목 수: ',len(titles),'개')#제목갯수확인\n",
    "print('\\n<<링크 모음>>')\n",
    "print(links)\n",
    "print('총 링크 수: ',len(links),'개')#링크갯수확인"
   ]
  },
  {
   "cell_type": "code",
   "execution_count": 36,
   "id": "d2da26ff",
   "metadata": {},
   "outputs": [
    {
     "name": "stdout",
     "output_type": "stream",
     "text": [
      "['https://blog.naver.com/101499/222856341772', 'https://blog.naver.com/ygii10041/222851902785', 'https://blog.naver.com/viah/222868947079', 'https://blog.naver.com/jiwonwww/222857377288', 'https://blog.naver.com/saengeun/222808550049', 'https://blog.naver.com/marswing/222814259773', 'https://blog.naver.com/hayoojin/222852236408', 'https://blog.naver.com/abungbung2/222852052735', 'https://blog.naver.com/lisaloy/222864118450', 'https://blog.naver.com/drawing_me/222840717588']\n",
      "생성된 링크 갯수: 10 개\n"
     ]
    }
   ],
   "source": [
    "# 링크를 다듬기 (필요없는 부분 제거 및 수정)\n",
    "blog_links = []\n",
    "for i in links:\n",
    "    a = i.replace('\\\\','')\n",
    "    b = a.replace('?Redirect=Log&logNo=','/')\n",
    "    blog_links.append(b)\n",
    "\n",
    "print(blog_links)\n",
    "print('생성된 링크 갯수:',len(blog_links),'개')"
   ]
  },
  {
   "cell_type": "code",
   "execution_count": 37,
   "id": "1bb6a6e3",
   "metadata": {},
   "outputs": [],
   "source": [
    "import time\n",
    "from selenium import webdriver\n",
    "from selenium.webdriver.common.by import By\n",
    "\n",
    "# 크롬 드라이버 설치\n",
    "# driver = webdriver.Chrome(ChromeDriverManager().install())\n",
    "# driver.implicitly_wait(3)\n",
    "\n",
    "driver = webdriver.Chrome() \n",
    "driver.implicitly_wait(3)"
   ]
  },
  {
   "cell_type": "code",
   "execution_count": 38,
   "id": "0ea69b01",
   "metadata": {},
   "outputs": [
    {
     "name": "stdout",
     "output_type": "stream",
     "text": [
      "<<본문 크롤링 완료>>\n"
     ]
    }
   ],
   "source": [
    "#블로그 링크 하나씩 불러서 크롤링\n",
    "contents = []\n",
    "for i in blog_links:\n",
    "    #블로그 링크 하나씩 불러오기\n",
    "    driver.get(i)\n",
    "    time.sleep(1)\n",
    "    #블로그 안 본문이 있는 iframe에 접근하기\n",
    "    driver.switch_to.frame(\"mainFrame\")\n",
    "    #본문 내용 크롤링하기\n",
    "    #본문 내용 크롤링하기\n",
    "    try:\n",
    "        a = driver.find_element(By.CSS_SELECTOR,'div.se-main-container').text\n",
    "        contents.append(a)\n",
    "    # NoSuchElement 오류시 예외처리(구버전 블로그에 적용)\n",
    "    except NoSuchElementException:\n",
    "        a = driver.find_element(By.CSS_SELECTOR,'div#content-area').text\n",
    "        contents.append(a)\n",
    "    #print(본문: \\n', a)\n",
    "\n",
    "\n",
    "\n",
    "\n",
    "driver.quit() #창닫기\n",
    "print(\"<<본문 크롤링 완료>>\")"
   ]
  },
  {
   "cell_type": "code",
   "execution_count": 39,
   "id": "2f78389a",
   "metadata": {},
   "outputs": [],
   "source": [
    "#제목, 블로그링크, 본문내용 Dataframe으로 만들기\n",
    "import pandas as pd\n",
    "df = pd.DataFrame({'제목':titles, '링크':blog_links,'내용':contents})\n",
    "\n",
    "#df 저장\n",
    "df.to_csv('{}_블로그.csv'.format(quote),encoding='utf-8-sig',index=False)"
   ]
  },
  {
   "cell_type": "code",
   "execution_count": null,
   "id": "9bb7a2c7",
   "metadata": {},
   "outputs": [],
   "source": []
  }
 ],
 "metadata": {
  "kernelspec": {
   "display_name": "Python 3 (ipykernel)",
   "language": "python",
   "name": "python3"
  },
  "language_info": {
   "codemirror_mode": {
    "name": "ipython",
    "version": 3
   },
   "file_extension": ".py",
   "mimetype": "text/x-python",
   "name": "python",
   "nbconvert_exporter": "python",
   "pygments_lexer": "ipython3",
   "version": "3.9.13"
  }
 },
 "nbformat": 4,
 "nbformat_minor": 5
}
