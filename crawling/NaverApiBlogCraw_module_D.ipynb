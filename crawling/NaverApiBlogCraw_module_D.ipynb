{
 "cells": [
  {
   "cell_type": "code",
   "execution_count": 14,
   "id": "29959c62",
   "metadata": {},
   "outputs": [
    {
     "name": "stdout",
     "output_type": "stream",
     "text": [
      "시작\n",
      "--- [ 90 ~ 91 ]  # 종료 9.183725595474243 초 ---\n"
     ]
    }
   ],
   "source": [
    "import nabc\n",
    "import time\n",
    "from multiprocessing import Pool\n",
    "import pandas as pd\n",
    "\n",
    "# 10개 기준 약 12분\n",
    "# 100개 기준 약 2시간 덜 걸림\n",
    "# 300개 기준 약 6시간 덜 걸림\n",
    "# 9810 - 11773\n",
    "start_num = 90        #관광지 시작 번호 - 끝번호 그대로 넣고 시작\n",
    "last_num = 91        #관광지 끝 번호 \n",
    "\n",
    "start_time = time.time()\n",
    "\n",
    "df = pd.read_csv(\"관광지목록.csv\", encoding='utf-8')\n",
    "word_origin = df['명칭'].values.tolist()\n",
    "word = word_origin[start_num:last_num]\n",
    "# print(word)\n",
    "\n",
    "start_time = time.time()\n",
    "print(\"시작\")\n",
    "pool = Pool(processes=8)\n",
    "pool.map(nabc.travel, word) \n",
    "\n",
    "print(\"[ %d ~ %d ]  # 종료 %s 초\" %(start_num, last_num, (time.time() - start_time)))"
   ]
  },
  {
   "cell_type": "code",
   "execution_count": null,
   "id": "4352146f",
   "metadata": {},
   "outputs": [],
   "source": []
  },
  {
   "cell_type": "code",
   "execution_count": null,
   "id": "bcab914c",
   "metadata": {},
   "outputs": [],
   "source": [
    "# 완료된거 data 폴더에 옮기고(없으면 만들어서) 결과합치기 파일 실행시키고 total.csv 를 보내주세요"
   ]
  },
  {
   "cell_type": "code",
   "execution_count": 6,
   "id": "e4adc1a8",
   "metadata": {},
   "outputs": [
    {
     "name": "stdout",
     "output_type": "stream",
     "text": [
      "['구암사(진도군)']\n"
     ]
    }
   ],
   "source": []
  }
 ],
 "metadata": {
  "kernelspec": {
   "display_name": "Python 3 (ipykernel)",
   "language": "python",
   "name": "python3"
  },
  "language_info": {
   "codemirror_mode": {
    "name": "ipython",
    "version": 3
   },
   "file_extension": ".py",
   "mimetype": "text/x-python",
   "name": "python",
   "nbconvert_exporter": "python",
   "pygments_lexer": "ipython3",
   "version": "3.9.13"
  }
 },
 "nbformat": 4,
 "nbformat_minor": 5
}
