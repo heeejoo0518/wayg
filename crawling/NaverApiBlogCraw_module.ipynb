{
 "cells": [
  {
   "cell_type": "code",
   "execution_count": 7,
   "id": "7928734e",
   "metadata": {},
   "outputs": [
    {
     "name": "stdout",
     "output_type": "stream",
     "text": [
      "--- 54.281763792037964 seconds ---\n"
     ]
    }
   ],
   "source": [
    "import nabc\n",
    "import time\n",
    "from multiprocessing import Pool\n",
    "\n",
    "word = [\"불국사\", \"롯데월드\", \"경북궁\", \"에버랜드\", \"육림랜드\", \"기회송림\", \"송호해수욕장\", \"천지연폭포 (제주도 국가지질공원)\"]\n",
    "\n",
    "start_time = time.time()\n",
    "\n",
    "pool = Pool(processes=8)\n",
    "pool.map(nabc.travel, word) \n",
    "\n",
    "print(\"--- %s seconds ---\" % (time.time() - start_time))"
   ]
  }
 ],
 "metadata": {
  "kernelspec": {
   "display_name": "Python 3 (ipykernel)",
   "language": "python",
   "name": "python3"
  },
  "language_info": {
   "codemirror_mode": {
    "name": "ipython",
    "version": 3
   },
   "file_extension": ".py",
   "mimetype": "text/x-python",
   "name": "python",
   "nbconvert_exporter": "python",
   "pygments_lexer": "ipython3",
   "version": "3.9.13"
  }
 },
 "nbformat": 4,
 "nbformat_minor": 5
}
